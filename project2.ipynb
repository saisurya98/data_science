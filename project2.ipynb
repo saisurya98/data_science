{
  "cells": [
    {
      "cell_type": "markdown",
      "metadata": {
        "id": "IomjkHgqwz2H"
      },
      "source": [
        "# DASC5301 Data Science, Fall 2022, Chengkai Li, University of Texas at Arlington\n",
        "# Programming Assignment 2\n",
        "# Due: Friday, April 8, 2022, 11:59pm\n",
        "\n",
        "## **Academic Honesty**\n",
        "This assignment must be done individually and independently. You must implement the whole assignment by yourself. Academic dishonesty is not tolerated.\n",
        "\n",
        "## **Requirements**\n",
        "\n",
        "1.   When you work on this assignment, you should make a copy of this notebook in Google Colab. This can be done using the option `File > Save a copy in Drive` in Google Colab. \n",
        "2.   You should fill in your answer for each task inside the code block right under the task. \n",
        "3.   You should only insert your code into the designated code blocks, as mentioned above. Other than that, you shouldn't change anything else in the notebook.\n",
        "4.   The correct output for each task is also included right below the corresponding code block. \n",
        "5.  Most of the tasks can be solved with 1 line of code. But you are allowed to use up to 3 lines of code for any task (except Task 10 for which your answer can be longer). \n",
        "6.   You may not use any other imports to solve the tasks. In other words, you shouldn't use `import` in any designated code blocks for the tasks.\n",
        "7.   You should not use any loops, if statementsa, or list/dictionary comprehensions, except for Task 10. You can solve all the tasks by only using features and functions from pandas. \n",
        "8.   Even if you can only partially solve a task, you should include your code in the code block, which allows us to consider partial credit. \n",
        "9.   However, your code should not raise errors. Any code raising errors will not get partial credit. \n",
        "10.   We tried to minimize the interdependence of the tasks. In most cases, even if you don't solve a task, it won't affect you working on the tasks afterwards, although the output of a task may not be fully correct if you didn't correctly solve the preceding tasks. If you get stuck on a task, you can move on to work on the rest and try to come back to that task later.\n",
        "11.   To submit your assignment, download your Colab into a .ipynb file. This can be done using the option `Download > Download .ipynb` in Google Colab.\n",
        "12.   Submit the downloaded .ipynb file into the Programming Assignment 2 entry in Canvas."
      ]
    },
    {
      "cell_type": "markdown",
      "metadata": {
        "id": "VE5MRfJg33ZR"
      },
      "source": [
        "## **Dataset**"
      ]
    },
    {
      "cell_type": "markdown",
      "metadata": {
        "id": "9GS0NxL6zpr4"
      },
      "source": [
        "In this assignment, we will do data munging and analysis on a dataset about vehicle sharing. You can run the following code to download the dataset and load it into a `DataFrame` `trips`."
      ]
    },
    {
      "cell_type": "markdown",
      "metadata": {
        "id": "0o13r5YzqC68"
      },
      "source": [
        "This dataset is generated from a vehicle sharing service. Every row represents a trip and has the following columns: \n",
        "- *Start Time* - The time when the trip started\n",
        "- *End Time* - The time when the trip ended\n",
        "- *Trip Duration* - Total time duration (in seconds) of the trip\n",
        "- *Start Station* - Name of the trip's start station\n",
        "- *End Station* - Name of the trip's end station\n",
        "- *User Type* -  Type of the user. **Subscriber** refers to the users that subscribed to the service; **Customer** refers the users who take rides without any subscription. \n",
        "- *Birth Year* - The birth year of the user"
      ]
    },
    {
      "cell_type": "code",
      "execution_count": 322,
      "metadata": {
        "colab": {
          "base_uri": "https://localhost:8080/"
        },
        "id": "V086f30K-dE7",
        "outputId": "6502ace6-d369-45e4-e170-1df0b68c503a"
      },
      "outputs": [
        {
          "output_type": "stream",
          "name": "stdout",
          "text": [
            "Downloading...\n",
            "From: https://drive.google.com/uc?id=1PWyiOq21AbDwOHZvSnsyAA0Zf1e7WQa1\n",
            "To: /content/vehicle_share.csv\n",
            "100% 23.0M/23.0M [00:00<00:00, 91.9MB/s]\n"
          ]
        }
      ],
      "source": [
        "import pandas as pd\n",
        "\n",
        "!gdown https://drive.google.com/uc?id=1PWyiOq21AbDwOHZvSnsyAA0Zf1e7WQa1\n",
        "trips = pd.read_csv('vehicle_share.csv')"
      ]
    },
    {
      "cell_type": "markdown",
      "metadata": {
        "id": "iSq1jdSH98fR"
      },
      "source": [
        "Let's gain some basic understanding of the dataset by using `info()`, `head()`, and `describe()`."
      ]
    },
    {
      "cell_type": "code",
      "execution_count": 323,
      "metadata": {
        "colab": {
          "base_uri": "https://localhost:8080/"
        },
        "id": "N7wTresvdVWl",
        "outputId": "e9fa57b6-2876-4783-8e02-0cabfa6e7feb"
      },
      "outputs": [
        {
          "output_type": "stream",
          "name": "stdout",
          "text": [
            "<class 'pandas.core.frame.DataFrame'>\n",
            "RangeIndex: 191963 entries, 0 to 191962\n",
            "Data columns (total 9 columns):\n",
            " #   Column         Non-Null Count   Dtype  \n",
            "---  ------         --------------   -----  \n",
            " 0   ID             191963 non-null  int64  \n",
            " 1   Start Time     191963 non-null  object \n",
            " 2   End Time       191963 non-null  object \n",
            " 3   Trip Duration  191963 non-null  float64\n",
            " 4   Start Station  191963 non-null  object \n",
            " 5   End Station    191963 non-null  object \n",
            " 6   User Type      191963 non-null  object \n",
            " 7   Gender         110287 non-null  object \n",
            " 8   Birth Year     110501 non-null  float64\n",
            "dtypes: float64(2), int64(1), object(6)\n",
            "memory usage: 13.2+ MB\n"
          ]
        }
      ],
      "source": [
        "trips.info()"
      ]
    },
    {
      "cell_type": "code",
      "execution_count": 292,
      "metadata": {
        "colab": {
          "base_uri": "https://localhost:8080/",
          "height": 206
        },
        "id": "3vCj7Atyfvjp",
        "outputId": "e0d6feed-09d7-4234-b8f8-46ace82063ed"
      },
      "outputs": [
        {
          "output_type": "execute_result",
          "data": {
            "text/plain": [
              "        ID           Start Time             End Time  Trip Duration  \\\n",
              "0   955915  2017-05-25 18:19:03  2017-05-25 18:45:53         1610.0   \n",
              "1   961916  2017-05-26 09:41:44  2017-05-26 09:46:25          281.0   \n",
              "2  1023296  2017-05-30 15:46:18  2017-05-30 15:52:12          354.0   \n",
              "3   958716  2017-05-25 22:59:33  2017-05-25 23:07:19          466.0   \n",
              "4   718598  2017-05-03 13:20:38  2017-05-03 13:31:13          635.0   \n",
              "\n",
              "                Start Station                     End Station   User Type  \\\n",
              "0         Theater on the Lake    Sheffield Ave & Waveland Ave  Subscriber   \n",
              "1       Ashland Ave & Lake St            Wood St & Hubbard St  Subscriber   \n",
              "2  Larrabee St & Kingsbury St               Clark St & Elm St  Subscriber   \n",
              "3     Clark St & Armitage Ave  Sheffield Ave & Wrightwood Ave  Subscriber   \n",
              "4    Ada St & Washington Blvd              Daley Center Plaza  Subscriber   \n",
              "\n",
              "   Gender  Birth Year  \n",
              "0  Female      1992.0  \n",
              "1  Female      1983.0  \n",
              "2    Male      1985.0  \n",
              "3  Female      1985.0  \n",
              "4    Male      1967.0  "
            ],
            "text/html": [
              "\n",
              "  <div id=\"df-31bc6535-e6bf-4695-8c70-6d04bf2977b0\">\n",
              "    <div class=\"colab-df-container\">\n",
              "      <div>\n",
              "<style scoped>\n",
              "    .dataframe tbody tr th:only-of-type {\n",
              "        vertical-align: middle;\n",
              "    }\n",
              "\n",
              "    .dataframe tbody tr th {\n",
              "        vertical-align: top;\n",
              "    }\n",
              "\n",
              "    .dataframe thead th {\n",
              "        text-align: right;\n",
              "    }\n",
              "</style>\n",
              "<table border=\"1\" class=\"dataframe\">\n",
              "  <thead>\n",
              "    <tr style=\"text-align: right;\">\n",
              "      <th></th>\n",
              "      <th>ID</th>\n",
              "      <th>Start Time</th>\n",
              "      <th>End Time</th>\n",
              "      <th>Trip Duration</th>\n",
              "      <th>Start Station</th>\n",
              "      <th>End Station</th>\n",
              "      <th>User Type</th>\n",
              "      <th>Gender</th>\n",
              "      <th>Birth Year</th>\n",
              "    </tr>\n",
              "  </thead>\n",
              "  <tbody>\n",
              "    <tr>\n",
              "      <th>0</th>\n",
              "      <td>955915</td>\n",
              "      <td>2017-05-25 18:19:03</td>\n",
              "      <td>2017-05-25 18:45:53</td>\n",
              "      <td>1610.0</td>\n",
              "      <td>Theater on the Lake</td>\n",
              "      <td>Sheffield Ave &amp; Waveland Ave</td>\n",
              "      <td>Subscriber</td>\n",
              "      <td>Female</td>\n",
              "      <td>1992.0</td>\n",
              "    </tr>\n",
              "    <tr>\n",
              "      <th>1</th>\n",
              "      <td>961916</td>\n",
              "      <td>2017-05-26 09:41:44</td>\n",
              "      <td>2017-05-26 09:46:25</td>\n",
              "      <td>281.0</td>\n",
              "      <td>Ashland Ave &amp; Lake St</td>\n",
              "      <td>Wood St &amp; Hubbard St</td>\n",
              "      <td>Subscriber</td>\n",
              "      <td>Female</td>\n",
              "      <td>1983.0</td>\n",
              "    </tr>\n",
              "    <tr>\n",
              "      <th>2</th>\n",
              "      <td>1023296</td>\n",
              "      <td>2017-05-30 15:46:18</td>\n",
              "      <td>2017-05-30 15:52:12</td>\n",
              "      <td>354.0</td>\n",
              "      <td>Larrabee St &amp; Kingsbury St</td>\n",
              "      <td>Clark St &amp; Elm St</td>\n",
              "      <td>Subscriber</td>\n",
              "      <td>Male</td>\n",
              "      <td>1985.0</td>\n",
              "    </tr>\n",
              "    <tr>\n",
              "      <th>3</th>\n",
              "      <td>958716</td>\n",
              "      <td>2017-05-25 22:59:33</td>\n",
              "      <td>2017-05-25 23:07:19</td>\n",
              "      <td>466.0</td>\n",
              "      <td>Clark St &amp; Armitage Ave</td>\n",
              "      <td>Sheffield Ave &amp; Wrightwood Ave</td>\n",
              "      <td>Subscriber</td>\n",
              "      <td>Female</td>\n",
              "      <td>1985.0</td>\n",
              "    </tr>\n",
              "    <tr>\n",
              "      <th>4</th>\n",
              "      <td>718598</td>\n",
              "      <td>2017-05-03 13:20:38</td>\n",
              "      <td>2017-05-03 13:31:13</td>\n",
              "      <td>635.0</td>\n",
              "      <td>Ada St &amp; Washington Blvd</td>\n",
              "      <td>Daley Center Plaza</td>\n",
              "      <td>Subscriber</td>\n",
              "      <td>Male</td>\n",
              "      <td>1967.0</td>\n",
              "    </tr>\n",
              "  </tbody>\n",
              "</table>\n",
              "</div>\n",
              "      <button class=\"colab-df-convert\" onclick=\"convertToInteractive('df-31bc6535-e6bf-4695-8c70-6d04bf2977b0')\"\n",
              "              title=\"Convert this dataframe to an interactive table.\"\n",
              "              style=\"display:none;\">\n",
              "        \n",
              "  <svg xmlns=\"http://www.w3.org/2000/svg\" height=\"24px\"viewBox=\"0 0 24 24\"\n",
              "       width=\"24px\">\n",
              "    <path d=\"M0 0h24v24H0V0z\" fill=\"none\"/>\n",
              "    <path d=\"M18.56 5.44l.94 2.06.94-2.06 2.06-.94-2.06-.94-.94-2.06-.94 2.06-2.06.94zm-11 1L8.5 8.5l.94-2.06 2.06-.94-2.06-.94L8.5 2.5l-.94 2.06-2.06.94zm10 10l.94 2.06.94-2.06 2.06-.94-2.06-.94-.94-2.06-.94 2.06-2.06.94z\"/><path d=\"M17.41 7.96l-1.37-1.37c-.4-.4-.92-.59-1.43-.59-.52 0-1.04.2-1.43.59L10.3 9.45l-7.72 7.72c-.78.78-.78 2.05 0 2.83L4 21.41c.39.39.9.59 1.41.59.51 0 1.02-.2 1.41-.59l7.78-7.78 2.81-2.81c.8-.78.8-2.07 0-2.86zM5.41 20L4 18.59l7.72-7.72 1.47 1.35L5.41 20z\"/>\n",
              "  </svg>\n",
              "      </button>\n",
              "      \n",
              "  <style>\n",
              "    .colab-df-container {\n",
              "      display:flex;\n",
              "      flex-wrap:wrap;\n",
              "      gap: 12px;\n",
              "    }\n",
              "\n",
              "    .colab-df-convert {\n",
              "      background-color: #E8F0FE;\n",
              "      border: none;\n",
              "      border-radius: 50%;\n",
              "      cursor: pointer;\n",
              "      display: none;\n",
              "      fill: #1967D2;\n",
              "      height: 32px;\n",
              "      padding: 0 0 0 0;\n",
              "      width: 32px;\n",
              "    }\n",
              "\n",
              "    .colab-df-convert:hover {\n",
              "      background-color: #E2EBFA;\n",
              "      box-shadow: 0px 1px 2px rgba(60, 64, 67, 0.3), 0px 1px 3px 1px rgba(60, 64, 67, 0.15);\n",
              "      fill: #174EA6;\n",
              "    }\n",
              "\n",
              "    [theme=dark] .colab-df-convert {\n",
              "      background-color: #3B4455;\n",
              "      fill: #D2E3FC;\n",
              "    }\n",
              "\n",
              "    [theme=dark] .colab-df-convert:hover {\n",
              "      background-color: #434B5C;\n",
              "      box-shadow: 0px 1px 3px 1px rgba(0, 0, 0, 0.15);\n",
              "      filter: drop-shadow(0px 1px 2px rgba(0, 0, 0, 0.3));\n",
              "      fill: #FFFFFF;\n",
              "    }\n",
              "  </style>\n",
              "\n",
              "      <script>\n",
              "        const buttonEl =\n",
              "          document.querySelector('#df-31bc6535-e6bf-4695-8c70-6d04bf2977b0 button.colab-df-convert');\n",
              "        buttonEl.style.display =\n",
              "          google.colab.kernel.accessAllowed ? 'block' : 'none';\n",
              "\n",
              "        async function convertToInteractive(key) {\n",
              "          const element = document.querySelector('#df-31bc6535-e6bf-4695-8c70-6d04bf2977b0');\n",
              "          const dataTable =\n",
              "            await google.colab.kernel.invokeFunction('convertToInteractive',\n",
              "                                                     [key], {});\n",
              "          if (!dataTable) return;\n",
              "\n",
              "          const docLinkHtml = 'Like what you see? Visit the ' +\n",
              "            '<a target=\"_blank\" href=https://colab.research.google.com/notebooks/data_table.ipynb>data table notebook</a>'\n",
              "            + ' to learn more about interactive tables.';\n",
              "          element.innerHTML = '';\n",
              "          dataTable['output_type'] = 'display_data';\n",
              "          await google.colab.output.renderOutput(dataTable, element);\n",
              "          const docLink = document.createElement('div');\n",
              "          docLink.innerHTML = docLinkHtml;\n",
              "          element.appendChild(docLink);\n",
              "        }\n",
              "      </script>\n",
              "    </div>\n",
              "  </div>\n",
              "  "
            ]
          },
          "metadata": {},
          "execution_count": 292
        }
      ],
      "source": [
        "trips.head()"
      ]
    },
    {
      "cell_type": "code",
      "execution_count": null,
      "metadata": {
        "colab": {
          "base_uri": "https://localhost:8080/",
          "height": 300
        },
        "id": "B0iHZzQvgN3d",
        "outputId": "c37658aa-078d-4d7a-dfc6-b1c71b378c2b"
      },
      "outputs": [
        {
          "data": {
            "text/html": [
              "\n",
              "  <div id=\"df-078ac4ee-09f0-41f0-bba3-d644e00b61b2\">\n",
              "    <div class=\"colab-df-container\">\n",
              "      <div>\n",
              "<style scoped>\n",
              "    .dataframe tbody tr th:only-of-type {\n",
              "        vertical-align: middle;\n",
              "    }\n",
              "\n",
              "    .dataframe tbody tr th {\n",
              "        vertical-align: top;\n",
              "    }\n",
              "\n",
              "    .dataframe thead th {\n",
              "        text-align: right;\n",
              "    }\n",
              "</style>\n",
              "<table border=\"1\" class=\"dataframe\">\n",
              "  <thead>\n",
              "    <tr style=\"text-align: right;\">\n",
              "      <th></th>\n",
              "      <th>ID</th>\n",
              "      <th>Trip Duration</th>\n",
              "      <th>Birth Year</th>\n",
              "    </tr>\n",
              "  </thead>\n",
              "  <tbody>\n",
              "    <tr>\n",
              "      <th>count</th>\n",
              "      <td>1.919630e+05</td>\n",
              "      <td>191963.000000</td>\n",
              "      <td>110501.000000</td>\n",
              "    </tr>\n",
              "    <tr>\n",
              "      <th>mean</th>\n",
              "      <td>2.171588e+06</td>\n",
              "      <td>1059.270001</td>\n",
              "      <td>1979.681306</td>\n",
              "    </tr>\n",
              "    <tr>\n",
              "      <th>std</th>\n",
              "      <td>1.604157e+06</td>\n",
              "      <td>4303.460797</td>\n",
              "      <td>11.427317</td>\n",
              "    </tr>\n",
              "    <tr>\n",
              "      <th>min</th>\n",
              "      <td>7.003540e+05</td>\n",
              "      <td>60.000000</td>\n",
              "      <td>1886.000000</td>\n",
              "    </tr>\n",
              "    <tr>\n",
              "      <th>25%</th>\n",
              "      <td>9.496235e+05</td>\n",
              "      <td>406.000000</td>\n",
              "      <td>1972.000000</td>\n",
              "    </tr>\n",
              "    <tr>\n",
              "      <th>50%</th>\n",
              "      <td>1.183765e+06</td>\n",
              "      <td>694.000000</td>\n",
              "      <td>1983.000000</td>\n",
              "    </tr>\n",
              "    <tr>\n",
              "      <th>75%</th>\n",
              "      <td>3.991690e+06</td>\n",
              "      <td>1186.823000</td>\n",
              "      <td>1989.000000</td>\n",
              "    </tr>\n",
              "    <tr>\n",
              "      <th>max</th>\n",
              "      <td>5.084641e+06</td>\n",
              "      <td>885567.607000</td>\n",
              "      <td>2016.000000</td>\n",
              "    </tr>\n",
              "  </tbody>\n",
              "</table>\n",
              "</div>\n",
              "      <button class=\"colab-df-convert\" onclick=\"convertToInteractive('df-078ac4ee-09f0-41f0-bba3-d644e00b61b2')\"\n",
              "              title=\"Convert this dataframe to an interactive table.\"\n",
              "              style=\"display:none;\">\n",
              "        \n",
              "  <svg xmlns=\"http://www.w3.org/2000/svg\" height=\"24px\"viewBox=\"0 0 24 24\"\n",
              "       width=\"24px\">\n",
              "    <path d=\"M0 0h24v24H0V0z\" fill=\"none\"/>\n",
              "    <path d=\"M18.56 5.44l.94 2.06.94-2.06 2.06-.94-2.06-.94-.94-2.06-.94 2.06-2.06.94zm-11 1L8.5 8.5l.94-2.06 2.06-.94-2.06-.94L8.5 2.5l-.94 2.06-2.06.94zm10 10l.94 2.06.94-2.06 2.06-.94-2.06-.94-.94-2.06-.94 2.06-2.06.94z\"/><path d=\"M17.41 7.96l-1.37-1.37c-.4-.4-.92-.59-1.43-.59-.52 0-1.04.2-1.43.59L10.3 9.45l-7.72 7.72c-.78.78-.78 2.05 0 2.83L4 21.41c.39.39.9.59 1.41.59.51 0 1.02-.2 1.41-.59l7.78-7.78 2.81-2.81c.8-.78.8-2.07 0-2.86zM5.41 20L4 18.59l7.72-7.72 1.47 1.35L5.41 20z\"/>\n",
              "  </svg>\n",
              "      </button>\n",
              "      \n",
              "  <style>\n",
              "    .colab-df-container {\n",
              "      display:flex;\n",
              "      flex-wrap:wrap;\n",
              "      gap: 12px;\n",
              "    }\n",
              "\n",
              "    .colab-df-convert {\n",
              "      background-color: #E8F0FE;\n",
              "      border: none;\n",
              "      border-radius: 50%;\n",
              "      cursor: pointer;\n",
              "      display: none;\n",
              "      fill: #1967D2;\n",
              "      height: 32px;\n",
              "      padding: 0 0 0 0;\n",
              "      width: 32px;\n",
              "    }\n",
              "\n",
              "    .colab-df-convert:hover {\n",
              "      background-color: #E2EBFA;\n",
              "      box-shadow: 0px 1px 2px rgba(60, 64, 67, 0.3), 0px 1px 3px 1px rgba(60, 64, 67, 0.15);\n",
              "      fill: #174EA6;\n",
              "    }\n",
              "\n",
              "    [theme=dark] .colab-df-convert {\n",
              "      background-color: #3B4455;\n",
              "      fill: #D2E3FC;\n",
              "    }\n",
              "\n",
              "    [theme=dark] .colab-df-convert:hover {\n",
              "      background-color: #434B5C;\n",
              "      box-shadow: 0px 1px 3px 1px rgba(0, 0, 0, 0.15);\n",
              "      filter: drop-shadow(0px 1px 2px rgba(0, 0, 0, 0.3));\n",
              "      fill: #FFFFFF;\n",
              "    }\n",
              "  </style>\n",
              "\n",
              "      <script>\n",
              "        const buttonEl =\n",
              "          document.querySelector('#df-078ac4ee-09f0-41f0-bba3-d644e00b61b2 button.colab-df-convert');\n",
              "        buttonEl.style.display =\n",
              "          google.colab.kernel.accessAllowed ? 'block' : 'none';\n",
              "\n",
              "        async function convertToInteractive(key) {\n",
              "          const element = document.querySelector('#df-078ac4ee-09f0-41f0-bba3-d644e00b61b2');\n",
              "          const dataTable =\n",
              "            await google.colab.kernel.invokeFunction('convertToInteractive',\n",
              "                                                     [key], {});\n",
              "          if (!dataTable) return;\n",
              "\n",
              "          const docLinkHtml = 'Like what you see? Visit the ' +\n",
              "            '<a target=\"_blank\" href=https://colab.research.google.com/notebooks/data_table.ipynb>data table notebook</a>'\n",
              "            + ' to learn more about interactive tables.';\n",
              "          element.innerHTML = '';\n",
              "          dataTable['output_type'] = 'display_data';\n",
              "          await google.colab.output.renderOutput(dataTable, element);\n",
              "          const docLink = document.createElement('div');\n",
              "          docLink.innerHTML = docLinkHtml;\n",
              "          element.appendChild(docLink);\n",
              "        }\n",
              "      </script>\n",
              "    </div>\n",
              "  </div>\n",
              "  "
            ],
            "text/plain": [
              "                 ID  Trip Duration     Birth Year\n",
              "count  1.919630e+05  191963.000000  110501.000000\n",
              "mean   2.171588e+06    1059.270001    1979.681306\n",
              "std    1.604157e+06    4303.460797      11.427317\n",
              "min    7.003540e+05      60.000000    1886.000000\n",
              "25%    9.496235e+05     406.000000    1972.000000\n",
              "50%    1.183765e+06     694.000000    1983.000000\n",
              "75%    3.991690e+06    1186.823000    1989.000000\n",
              "max    5.084641e+06  885567.607000    2016.000000"
            ]
          },
          "execution_count": 4,
          "metadata": {},
          "output_type": "execute_result"
        }
      ],
      "source": [
        "trips.describe()"
      ]
    },
    {
      "cell_type": "markdown",
      "metadata": {
        "id": "krfuevEb-a9c"
      },
      "source": [
        "## **Need for data cleaning and preprocessing**\n",
        "\n",
        "The results of these several functions indicate a few needs for cleaning and preprocessing the data:\n",
        "\n",
        "1) The column `Birth Year` should be integer, but it has floating point values.\n",
        "\n",
        "2) There are null values in a few columns. \n",
        "\n",
        "3) The values in columns `Start Time` and `End Time` are strings. We need to convert them to `datetime` values.\n"
      ]
    },
    {
      "cell_type": "markdown",
      "metadata": {
        "id": "dg9W0E7nGRrF"
      },
      "source": [
        "Let's find out which columns have null values. This could be derived from the `Non-Null Count` in the output of `trips.info()`. But there are simpler ways."
      ]
    },
    {
      "cell_type": "markdown",
      "metadata": {
        "id": "dCZk1EMcw_aB"
      },
      "source": [
        "## **Task 1: For each column, find the number of rows with null value in that column. (5 points)** \n",
        "\n",
        "If your code for this task is correct, its output should tell you that two columns have null values --- column `Gender` has missing value in 81676 rows and 81462 for column `Birth Year`. Other columns have no null values. "
      ]
    },
    {
      "cell_type": "code",
      "execution_count": 324,
      "metadata": {
        "colab": {
          "base_uri": "https://localhost:8080/"
        },
        "id": "6vGs8aLSgTB2",
        "outputId": "ffc231cc-946d-4b25-cfa3-5391aa89d23f"
      },
      "outputs": [
        {
          "output_type": "stream",
          "name": "stdout",
          "text": [
            "ID                   0\n",
            "Start Time           0\n",
            "End Time             0\n",
            "Trip Duration        0\n",
            "Start Station        0\n",
            "End Station          0\n",
            "User Type            0\n",
            "Gender           81676\n",
            "Birth Year       81462\n",
            "dtype: int64\n"
          ]
        }
      ],
      "source": [
        "# Code for Task 1\n",
        "a=trips.isnull().sum()\n",
        "print(a)"
      ]
    },
    {
      "cell_type": "markdown",
      "metadata": {
        "id": "agWBWQcxzSOO"
      },
      "source": [
        "\n",
        "\n",
        "The `ID` column is not useful in our analysis. Hence, let's take it out. \n",
        "\n",
        "## **Task 2: Remove the `ID` column from the DataFrame `trips`. (5 points)**"
      ]
    },
    {
      "cell_type": "markdown",
      "metadata": {
        "id": "MjbInU-2egLT"
      },
      "source": [
        ""
      ]
    },
    {
      "cell_type": "code",
      "execution_count": 325,
      "metadata": {
        "id": "pb5JfRdrz3SX"
      },
      "outputs": [],
      "source": [
        "# Code for Task 2\n",
        "del trips[\"ID\"]"
      ]
    },
    {
      "cell_type": "markdown",
      "metadata": {
        "id": "kYN0cPdIPC56"
      },
      "source": [
        "## **Task 3: Replace null values in column `Gender` by `'Unknown'`. Replace null values in column `Birth Year` by -1. Note that this task has two desiganated code blocks. (5 points)** \n",
        "\n",
        "The column `Gender` has Null values, as `trips.describe()` shows. Hence, we are using a string `Unknown` to indicate that the user's gender information is not recorded. The column `Birth Year` has Null values too. We thus use -1 to indicate missing values in `Birth Year`."
      ]
    },
    {
      "cell_type": "code",
      "execution_count": 326,
      "metadata": {
        "id": "jhnZsvNfjZRN"
      },
      "outputs": [],
      "source": [
        "# Code for Task 3 : code block for replacing null values in column Gender by ``Unknown``.\n",
        "trips[\"Gender\"].fillna(\"Unknown\", inplace = True)\n",
        "#print(trips['Gender'][0:50])"
      ]
    },
    {
      "cell_type": "code",
      "execution_count": 327,
      "metadata": {
        "id": "NQa9ZyYlQ6Qk"
      },
      "outputs": [],
      "source": [
        "# Code for Task 3: code block for replacing null values in column Birth Year by -1.\n",
        "trips[\"Birth Year\"].fillna(float(-1),inplace = True)\n",
        "#print(type(trips[\"Birth Year\"][9]))"
      ]
    },
    {
      "cell_type": "markdown",
      "metadata": {
        "id": "ODrci3YORMlu"
      },
      "source": [
        "## **Task 4: Convert the data type of column ``Birth year`` to integer. Convert the data type of column ``Start Time`` and ``End Time`` to `datetime`.  Note that this task has two designated code blocks. (5 points)**"
      ]
    },
    {
      "cell_type": "code",
      "execution_count": 328,
      "metadata": {
        "id": "KueSujDQhuwc"
      },
      "outputs": [],
      "source": [
        "# Code for Task 4: code block for converting the data type of column ``Year Pubblished`` to integer.\n",
        "trips[\"Birth Year\"]=trips[\"Birth Year\"].astype(int)"
      ]
    },
    {
      "cell_type": "code",
      "execution_count": 329,
      "metadata": {
        "id": "bXvfJEsaRpnG"
      },
      "outputs": [],
      "source": [
        "# Code for Task 4: code block for converting the data type of column ``Start Time`` and ``End Time`` to ``datetime``. \n",
        "trips['Start Time']= pd.to_datetime(trips['Start Time'])\n",
        "trips['End Time']=pd.to_datetime(trips['End Time'])"
      ]
    },
    {
      "cell_type": "markdown",
      "metadata": {
        "id": "_Y4tZ_UuSSDJ"
      },
      "source": [
        "After you finish Tasks 1 to 4, run `trips.info()`, `trips.head()` and `trips.describe()` again, to verify you have achieved the goals. In fact, you could do this from time to time, in various places, to make sure you haven't messed up the data."
      ]
    },
    {
      "cell_type": "code",
      "execution_count": 330,
      "metadata": {
        "colab": {
          "base_uri": "https://localhost:8080/"
        },
        "id": "E6_QVcmKSChW",
        "outputId": "1b04cdd1-9afe-4146-931e-63123a96db51"
      },
      "outputs": [
        {
          "output_type": "stream",
          "name": "stdout",
          "text": [
            "<class 'pandas.core.frame.DataFrame'>\n",
            "RangeIndex: 191963 entries, 0 to 191962\n",
            "Data columns (total 8 columns):\n",
            " #   Column         Non-Null Count   Dtype         \n",
            "---  ------         --------------   -----         \n",
            " 0   Start Time     191963 non-null  datetime64[ns]\n",
            " 1   End Time       191963 non-null  datetime64[ns]\n",
            " 2   Trip Duration  191963 non-null  float64       \n",
            " 3   Start Station  191963 non-null  object        \n",
            " 4   End Station    191963 non-null  object        \n",
            " 5   User Type      191963 non-null  object        \n",
            " 6   Gender         191963 non-null  object        \n",
            " 7   Birth Year     191963 non-null  int64         \n",
            "dtypes: datetime64[ns](2), float64(1), int64(1), object(4)\n",
            "memory usage: 11.7+ MB\n"
          ]
        }
      ],
      "source": [
        "trips.info()"
      ]
    },
    {
      "cell_type": "code",
      "execution_count": 302,
      "metadata": {
        "colab": {
          "base_uri": "https://localhost:8080/",
          "height": 206
        },
        "id": "SDVUp8sljtgL",
        "outputId": "bb292088-3144-4e13-c0c0-4a13ebefcec4"
      },
      "outputs": [
        {
          "output_type": "execute_result",
          "data": {
            "text/plain": [
              "           Start Time            End Time  Trip Duration  \\\n",
              "0 2017-05-25 18:19:03 2017-05-25 18:45:53         1610.0   \n",
              "1 2017-05-26 09:41:44 2017-05-26 09:46:25          281.0   \n",
              "2 2017-05-30 15:46:18 2017-05-30 15:52:12          354.0   \n",
              "3 2017-05-25 22:59:33 2017-05-25 23:07:19          466.0   \n",
              "4 2017-05-03 13:20:38 2017-05-03 13:31:13          635.0   \n",
              "\n",
              "                Start Station                     End Station   User Type  \\\n",
              "0         Theater on the Lake    Sheffield Ave & Waveland Ave  Subscriber   \n",
              "1       Ashland Ave & Lake St            Wood St & Hubbard St  Subscriber   \n",
              "2  Larrabee St & Kingsbury St               Clark St & Elm St  Subscriber   \n",
              "3     Clark St & Armitage Ave  Sheffield Ave & Wrightwood Ave  Subscriber   \n",
              "4    Ada St & Washington Blvd              Daley Center Plaza  Subscriber   \n",
              "\n",
              "   Gender  Birth Year  \n",
              "0  Female        1992  \n",
              "1  Female        1983  \n",
              "2    Male        1985  \n",
              "3  Female        1985  \n",
              "4    Male        1967  "
            ],
            "text/html": [
              "\n",
              "  <div id=\"df-ea518178-bdfa-4330-adb7-b33f4e6d8b45\">\n",
              "    <div class=\"colab-df-container\">\n",
              "      <div>\n",
              "<style scoped>\n",
              "    .dataframe tbody tr th:only-of-type {\n",
              "        vertical-align: middle;\n",
              "    }\n",
              "\n",
              "    .dataframe tbody tr th {\n",
              "        vertical-align: top;\n",
              "    }\n",
              "\n",
              "    .dataframe thead th {\n",
              "        text-align: right;\n",
              "    }\n",
              "</style>\n",
              "<table border=\"1\" class=\"dataframe\">\n",
              "  <thead>\n",
              "    <tr style=\"text-align: right;\">\n",
              "      <th></th>\n",
              "      <th>Start Time</th>\n",
              "      <th>End Time</th>\n",
              "      <th>Trip Duration</th>\n",
              "      <th>Start Station</th>\n",
              "      <th>End Station</th>\n",
              "      <th>User Type</th>\n",
              "      <th>Gender</th>\n",
              "      <th>Birth Year</th>\n",
              "    </tr>\n",
              "  </thead>\n",
              "  <tbody>\n",
              "    <tr>\n",
              "      <th>0</th>\n",
              "      <td>2017-05-25 18:19:03</td>\n",
              "      <td>2017-05-25 18:45:53</td>\n",
              "      <td>1610.0</td>\n",
              "      <td>Theater on the Lake</td>\n",
              "      <td>Sheffield Ave &amp; Waveland Ave</td>\n",
              "      <td>Subscriber</td>\n",
              "      <td>Female</td>\n",
              "      <td>1992</td>\n",
              "    </tr>\n",
              "    <tr>\n",
              "      <th>1</th>\n",
              "      <td>2017-05-26 09:41:44</td>\n",
              "      <td>2017-05-26 09:46:25</td>\n",
              "      <td>281.0</td>\n",
              "      <td>Ashland Ave &amp; Lake St</td>\n",
              "      <td>Wood St &amp; Hubbard St</td>\n",
              "      <td>Subscriber</td>\n",
              "      <td>Female</td>\n",
              "      <td>1983</td>\n",
              "    </tr>\n",
              "    <tr>\n",
              "      <th>2</th>\n",
              "      <td>2017-05-30 15:46:18</td>\n",
              "      <td>2017-05-30 15:52:12</td>\n",
              "      <td>354.0</td>\n",
              "      <td>Larrabee St &amp; Kingsbury St</td>\n",
              "      <td>Clark St &amp; Elm St</td>\n",
              "      <td>Subscriber</td>\n",
              "      <td>Male</td>\n",
              "      <td>1985</td>\n",
              "    </tr>\n",
              "    <tr>\n",
              "      <th>3</th>\n",
              "      <td>2017-05-25 22:59:33</td>\n",
              "      <td>2017-05-25 23:07:19</td>\n",
              "      <td>466.0</td>\n",
              "      <td>Clark St &amp; Armitage Ave</td>\n",
              "      <td>Sheffield Ave &amp; Wrightwood Ave</td>\n",
              "      <td>Subscriber</td>\n",
              "      <td>Female</td>\n",
              "      <td>1985</td>\n",
              "    </tr>\n",
              "    <tr>\n",
              "      <th>4</th>\n",
              "      <td>2017-05-03 13:20:38</td>\n",
              "      <td>2017-05-03 13:31:13</td>\n",
              "      <td>635.0</td>\n",
              "      <td>Ada St &amp; Washington Blvd</td>\n",
              "      <td>Daley Center Plaza</td>\n",
              "      <td>Subscriber</td>\n",
              "      <td>Male</td>\n",
              "      <td>1967</td>\n",
              "    </tr>\n",
              "  </tbody>\n",
              "</table>\n",
              "</div>\n",
              "      <button class=\"colab-df-convert\" onclick=\"convertToInteractive('df-ea518178-bdfa-4330-adb7-b33f4e6d8b45')\"\n",
              "              title=\"Convert this dataframe to an interactive table.\"\n",
              "              style=\"display:none;\">\n",
              "        \n",
              "  <svg xmlns=\"http://www.w3.org/2000/svg\" height=\"24px\"viewBox=\"0 0 24 24\"\n",
              "       width=\"24px\">\n",
              "    <path d=\"M0 0h24v24H0V0z\" fill=\"none\"/>\n",
              "    <path d=\"M18.56 5.44l.94 2.06.94-2.06 2.06-.94-2.06-.94-.94-2.06-.94 2.06-2.06.94zm-11 1L8.5 8.5l.94-2.06 2.06-.94-2.06-.94L8.5 2.5l-.94 2.06-2.06.94zm10 10l.94 2.06.94-2.06 2.06-.94-2.06-.94-.94-2.06-.94 2.06-2.06.94z\"/><path d=\"M17.41 7.96l-1.37-1.37c-.4-.4-.92-.59-1.43-.59-.52 0-1.04.2-1.43.59L10.3 9.45l-7.72 7.72c-.78.78-.78 2.05 0 2.83L4 21.41c.39.39.9.59 1.41.59.51 0 1.02-.2 1.41-.59l7.78-7.78 2.81-2.81c.8-.78.8-2.07 0-2.86zM5.41 20L4 18.59l7.72-7.72 1.47 1.35L5.41 20z\"/>\n",
              "  </svg>\n",
              "      </button>\n",
              "      \n",
              "  <style>\n",
              "    .colab-df-container {\n",
              "      display:flex;\n",
              "      flex-wrap:wrap;\n",
              "      gap: 12px;\n",
              "    }\n",
              "\n",
              "    .colab-df-convert {\n",
              "      background-color: #E8F0FE;\n",
              "      border: none;\n",
              "      border-radius: 50%;\n",
              "      cursor: pointer;\n",
              "      display: none;\n",
              "      fill: #1967D2;\n",
              "      height: 32px;\n",
              "      padding: 0 0 0 0;\n",
              "      width: 32px;\n",
              "    }\n",
              "\n",
              "    .colab-df-convert:hover {\n",
              "      background-color: #E2EBFA;\n",
              "      box-shadow: 0px 1px 2px rgba(60, 64, 67, 0.3), 0px 1px 3px 1px rgba(60, 64, 67, 0.15);\n",
              "      fill: #174EA6;\n",
              "    }\n",
              "\n",
              "    [theme=dark] .colab-df-convert {\n",
              "      background-color: #3B4455;\n",
              "      fill: #D2E3FC;\n",
              "    }\n",
              "\n",
              "    [theme=dark] .colab-df-convert:hover {\n",
              "      background-color: #434B5C;\n",
              "      box-shadow: 0px 1px 3px 1px rgba(0, 0, 0, 0.15);\n",
              "      filter: drop-shadow(0px 1px 2px rgba(0, 0, 0, 0.3));\n",
              "      fill: #FFFFFF;\n",
              "    }\n",
              "  </style>\n",
              "\n",
              "      <script>\n",
              "        const buttonEl =\n",
              "          document.querySelector('#df-ea518178-bdfa-4330-adb7-b33f4e6d8b45 button.colab-df-convert');\n",
              "        buttonEl.style.display =\n",
              "          google.colab.kernel.accessAllowed ? 'block' : 'none';\n",
              "\n",
              "        async function convertToInteractive(key) {\n",
              "          const element = document.querySelector('#df-ea518178-bdfa-4330-adb7-b33f4e6d8b45');\n",
              "          const dataTable =\n",
              "            await google.colab.kernel.invokeFunction('convertToInteractive',\n",
              "                                                     [key], {});\n",
              "          if (!dataTable) return;\n",
              "\n",
              "          const docLinkHtml = 'Like what you see? Visit the ' +\n",
              "            '<a target=\"_blank\" href=https://colab.research.google.com/notebooks/data_table.ipynb>data table notebook</a>'\n",
              "            + ' to learn more about interactive tables.';\n",
              "          element.innerHTML = '';\n",
              "          dataTable['output_type'] = 'display_data';\n",
              "          await google.colab.output.renderOutput(dataTable, element);\n",
              "          const docLink = document.createElement('div');\n",
              "          docLink.innerHTML = docLinkHtml;\n",
              "          element.appendChild(docLink);\n",
              "        }\n",
              "      </script>\n",
              "    </div>\n",
              "  </div>\n",
              "  "
            ]
          },
          "metadata": {},
          "execution_count": 302
        }
      ],
      "source": [
        "trips.head()"
      ]
    },
    {
      "cell_type": "code",
      "execution_count": 303,
      "metadata": {
        "colab": {
          "base_uri": "https://localhost:8080/",
          "height": 300
        },
        "id": "qSimeKSdkd0O",
        "outputId": "8d5483a0-b620-416e-83d6-3321b1813e57"
      },
      "outputs": [
        {
          "output_type": "execute_result",
          "data": {
            "text/plain": [
              "       Trip Duration     Birth Year\n",
              "count  191963.000000  191963.000000\n",
              "mean     1059.270001    1139.153389\n",
              "std      4303.460797     978.984634\n",
              "min        60.000000      -1.000000\n",
              "25%       406.000000      -1.000000\n",
              "50%       694.000000    1965.000000\n",
              "75%      1186.823000    1984.000000\n",
              "max    885567.607000    2016.000000"
            ],
            "text/html": [
              "\n",
              "  <div id=\"df-0eeec503-82c1-4e38-8bae-a26726f6241a\">\n",
              "    <div class=\"colab-df-container\">\n",
              "      <div>\n",
              "<style scoped>\n",
              "    .dataframe tbody tr th:only-of-type {\n",
              "        vertical-align: middle;\n",
              "    }\n",
              "\n",
              "    .dataframe tbody tr th {\n",
              "        vertical-align: top;\n",
              "    }\n",
              "\n",
              "    .dataframe thead th {\n",
              "        text-align: right;\n",
              "    }\n",
              "</style>\n",
              "<table border=\"1\" class=\"dataframe\">\n",
              "  <thead>\n",
              "    <tr style=\"text-align: right;\">\n",
              "      <th></th>\n",
              "      <th>Trip Duration</th>\n",
              "      <th>Birth Year</th>\n",
              "    </tr>\n",
              "  </thead>\n",
              "  <tbody>\n",
              "    <tr>\n",
              "      <th>count</th>\n",
              "      <td>191963.000000</td>\n",
              "      <td>191963.000000</td>\n",
              "    </tr>\n",
              "    <tr>\n",
              "      <th>mean</th>\n",
              "      <td>1059.270001</td>\n",
              "      <td>1139.153389</td>\n",
              "    </tr>\n",
              "    <tr>\n",
              "      <th>std</th>\n",
              "      <td>4303.460797</td>\n",
              "      <td>978.984634</td>\n",
              "    </tr>\n",
              "    <tr>\n",
              "      <th>min</th>\n",
              "      <td>60.000000</td>\n",
              "      <td>-1.000000</td>\n",
              "    </tr>\n",
              "    <tr>\n",
              "      <th>25%</th>\n",
              "      <td>406.000000</td>\n",
              "      <td>-1.000000</td>\n",
              "    </tr>\n",
              "    <tr>\n",
              "      <th>50%</th>\n",
              "      <td>694.000000</td>\n",
              "      <td>1965.000000</td>\n",
              "    </tr>\n",
              "    <tr>\n",
              "      <th>75%</th>\n",
              "      <td>1186.823000</td>\n",
              "      <td>1984.000000</td>\n",
              "    </tr>\n",
              "    <tr>\n",
              "      <th>max</th>\n",
              "      <td>885567.607000</td>\n",
              "      <td>2016.000000</td>\n",
              "    </tr>\n",
              "  </tbody>\n",
              "</table>\n",
              "</div>\n",
              "      <button class=\"colab-df-convert\" onclick=\"convertToInteractive('df-0eeec503-82c1-4e38-8bae-a26726f6241a')\"\n",
              "              title=\"Convert this dataframe to an interactive table.\"\n",
              "              style=\"display:none;\">\n",
              "        \n",
              "  <svg xmlns=\"http://www.w3.org/2000/svg\" height=\"24px\"viewBox=\"0 0 24 24\"\n",
              "       width=\"24px\">\n",
              "    <path d=\"M0 0h24v24H0V0z\" fill=\"none\"/>\n",
              "    <path d=\"M18.56 5.44l.94 2.06.94-2.06 2.06-.94-2.06-.94-.94-2.06-.94 2.06-2.06.94zm-11 1L8.5 8.5l.94-2.06 2.06-.94-2.06-.94L8.5 2.5l-.94 2.06-2.06.94zm10 10l.94 2.06.94-2.06 2.06-.94-2.06-.94-.94-2.06-.94 2.06-2.06.94z\"/><path d=\"M17.41 7.96l-1.37-1.37c-.4-.4-.92-.59-1.43-.59-.52 0-1.04.2-1.43.59L10.3 9.45l-7.72 7.72c-.78.78-.78 2.05 0 2.83L4 21.41c.39.39.9.59 1.41.59.51 0 1.02-.2 1.41-.59l7.78-7.78 2.81-2.81c.8-.78.8-2.07 0-2.86zM5.41 20L4 18.59l7.72-7.72 1.47 1.35L5.41 20z\"/>\n",
              "  </svg>\n",
              "      </button>\n",
              "      \n",
              "  <style>\n",
              "    .colab-df-container {\n",
              "      display:flex;\n",
              "      flex-wrap:wrap;\n",
              "      gap: 12px;\n",
              "    }\n",
              "\n",
              "    .colab-df-convert {\n",
              "      background-color: #E8F0FE;\n",
              "      border: none;\n",
              "      border-radius: 50%;\n",
              "      cursor: pointer;\n",
              "      display: none;\n",
              "      fill: #1967D2;\n",
              "      height: 32px;\n",
              "      padding: 0 0 0 0;\n",
              "      width: 32px;\n",
              "    }\n",
              "\n",
              "    .colab-df-convert:hover {\n",
              "      background-color: #E2EBFA;\n",
              "      box-shadow: 0px 1px 2px rgba(60, 64, 67, 0.3), 0px 1px 3px 1px rgba(60, 64, 67, 0.15);\n",
              "      fill: #174EA6;\n",
              "    }\n",
              "\n",
              "    [theme=dark] .colab-df-convert {\n",
              "      background-color: #3B4455;\n",
              "      fill: #D2E3FC;\n",
              "    }\n",
              "\n",
              "    [theme=dark] .colab-df-convert:hover {\n",
              "      background-color: #434B5C;\n",
              "      box-shadow: 0px 1px 3px 1px rgba(0, 0, 0, 0.15);\n",
              "      filter: drop-shadow(0px 1px 2px rgba(0, 0, 0, 0.3));\n",
              "      fill: #FFFFFF;\n",
              "    }\n",
              "  </style>\n",
              "\n",
              "      <script>\n",
              "        const buttonEl =\n",
              "          document.querySelector('#df-0eeec503-82c1-4e38-8bae-a26726f6241a button.colab-df-convert');\n",
              "        buttonEl.style.display =\n",
              "          google.colab.kernel.accessAllowed ? 'block' : 'none';\n",
              "\n",
              "        async function convertToInteractive(key) {\n",
              "          const element = document.querySelector('#df-0eeec503-82c1-4e38-8bae-a26726f6241a');\n",
              "          const dataTable =\n",
              "            await google.colab.kernel.invokeFunction('convertToInteractive',\n",
              "                                                     [key], {});\n",
              "          if (!dataTable) return;\n",
              "\n",
              "          const docLinkHtml = 'Like what you see? Visit the ' +\n",
              "            '<a target=\"_blank\" href=https://colab.research.google.com/notebooks/data_table.ipynb>data table notebook</a>'\n",
              "            + ' to learn more about interactive tables.';\n",
              "          element.innerHTML = '';\n",
              "          dataTable['output_type'] = 'display_data';\n",
              "          await google.colab.output.renderOutput(dataTable, element);\n",
              "          const docLink = document.createElement('div');\n",
              "          docLink.innerHTML = docLinkHtml;\n",
              "          element.appendChild(docLink);\n",
              "        }\n",
              "      </script>\n",
              "    </div>\n",
              "  </div>\n",
              "  "
            ]
          },
          "metadata": {},
          "execution_count": 303
        }
      ],
      "source": [
        "trips.describe()"
      ]
    },
    {
      "cell_type": "markdown",
      "metadata": {
        "id": "qvJPaB5TsC13"
      },
      "source": [
        "Run the following code cell so that, even if your code in preceding tasks messed up the data, it will not affect the ensuing tasks."
      ]
    },
    {
      "cell_type": "code",
      "execution_count": 304,
      "metadata": {
        "colab": {
          "base_uri": "https://localhost:8080/"
        },
        "id": "CgMI0OrnsPUE",
        "outputId": "8bd42d0c-361d-4f77-ed8f-448694b70964"
      },
      "outputs": [
        {
          "output_type": "stream",
          "name": "stdout",
          "text": [
            "Downloading...\n",
            "From: https://drive.google.com/uc?id=1Ew6Cco8knAPO4pdlK5bHKE_sFOtCZMkW\n",
            "To: /content/task5.pkl\n",
            "100% 9.98M/9.98M [00:00<00:00, 43.1MB/s]\n"
          ]
        }
      ],
      "source": [
        "!gdown \"https://drive.google.com/uc?id=1Ew6Cco8knAPO4pdlK5bHKE_sFOtCZMkW\"\n",
        "trips = pd.read_pickle(\"task5.pkl\")\n"
      ]
    },
    {
      "cell_type": "markdown",
      "metadata": {
        "id": "kHqtanC_ExhJ"
      },
      "source": [
        "We want to find out which gender of users used the vehicle sharing service more often.\n",
        "\n",
        "## **Task 5: Get the frequency of trips for both the Genders. (5 points)**"
      ]
    },
    {
      "cell_type": "code",
      "execution_count": 331,
      "metadata": {
        "colab": {
          "base_uri": "https://localhost:8080/"
        },
        "id": "jERMksm6t7id",
        "outputId": "70a54763-18ef-4a69-8c57-723b7ad4583b"
      },
      "outputs": [
        {
          "output_type": "stream",
          "name": "stdout",
          "text": [
            "Gender\n",
            "Male      82335\n",
            "Female    27952\n",
            "dtype: int64\n"
          ]
        }
      ],
      "source": [
        "# Code for Task 5\n",
        "count = trips.groupby(['Gender']).size()\n",
        "a=count[0:2]\n",
        "print(a[::-1])"
      ]
    },
    {
      "cell_type": "markdown",
      "metadata": {
        "id": "JLP24wFiAi0W"
      },
      "source": [
        "## **Task 6: Get the number of trips with each station as the starting point. Sort the start stations by frequency of trips, in descending order. (5 points)**\n",
        "\n",
        "If you get the correct code, you will find that for 1719 trips `Streeter Dr & Grand Ave` is the `Starting Station`, which is the most among all stations. "
      ]
    },
    {
      "cell_type": "code",
      "execution_count": 332,
      "metadata": {
        "id": "ajKIz33BP9ov",
        "colab": {
          "base_uri": "https://localhost:8080/"
        },
        "outputId": "a17702c4-7737-4015-caa6-66bd2a232262"
      },
      "outputs": [
        {
          "output_type": "stream",
          "name": "stdout",
          "text": [
            "Streeter Dr & Grand Ave            1719\n",
            "Lake Shore Dr & Monroe St          1211\n",
            "Lincoln Memorial                   1112\n",
            "Jefferson Dr & 14th St SW          1042\n",
            "Columbus Circle / Union Station    1011\n",
            "                                   ... \n",
            "Phillips Ave & 79th St                1\n",
            "Damen Ave & 59th St                   1\n",
            "Exchange Ave & 79th St                1\n",
            "Halsted St & 69th St                  1\n",
            "NYCBS Depot - GOW                     1\n",
            "Name: Start Station, Length: 1616, dtype: int64\n"
          ]
        }
      ],
      "source": [
        "# Code for Task 6\n",
        "ui=trips['Start Station'].value_counts(normalize=False, sort=True, ascending=False)\n",
        "print(ui)"
      ]
    },
    {
      "cell_type": "markdown",
      "metadata": {
        "id": "tUxYxGy0uAbC"
      },
      "source": [
        "# **Task 7: Find the longest trip (in seconds) in our dataset. (5 points)**"
      ]
    },
    {
      "cell_type": "code",
      "execution_count": 333,
      "metadata": {
        "colab": {
          "base_uri": "https://localhost:8080/",
          "height": 34
        },
        "id": "nMEJqtFuuRWE",
        "outputId": "f7492671-8b50-49bc-a0c2-52b9ef2c6d22"
      },
      "outputs": [
        {
          "output_type": "display_data",
          "data": {
            "text/plain": [
              "885567.6070000001"
            ]
          },
          "metadata": {}
        }
      ],
      "source": [
        "# Code for Task 7\n",
        "x=trips['Trip Duration'].max()\n",
        "display(x)"
      ]
    },
    {
      "cell_type": "markdown",
      "metadata": {
        "id": "7Hl5thB-1u5L"
      },
      "source": [
        "## **Task 8: Find the stat station and end staion for the longest trip. (5 points)**\n",
        "\n",
        "If your code is correct, it shoukd show the start and the end stations are __19th St & Constitution Ave NW__ and __23rd & E St NW__, respectively."
      ]
    },
    {
      "cell_type": "code",
      "execution_count": 334,
      "metadata": {
        "colab": {
          "base_uri": "https://localhost:8080/",
          "height": 81
        },
        "id": "8Qp68Q1I7Z4M",
        "outputId": "f7f6ff76-a1d7-4514-8ca7-5e1cb4828e4e"
      },
      "outputs": [
        {
          "output_type": "execute_result",
          "data": {
            "text/plain": [
              "                        Start Station      End Station\n",
              "101972  19th St & Constitution Ave NW  23rd & E St NW "
            ],
            "text/html": [
              "\n",
              "  <div id=\"df-b509da58-3652-4cb4-a9be-671ce4385942\">\n",
              "    <div class=\"colab-df-container\">\n",
              "      <div>\n",
              "<style scoped>\n",
              "    .dataframe tbody tr th:only-of-type {\n",
              "        vertical-align: middle;\n",
              "    }\n",
              "\n",
              "    .dataframe tbody tr th {\n",
              "        vertical-align: top;\n",
              "    }\n",
              "\n",
              "    .dataframe thead th {\n",
              "        text-align: right;\n",
              "    }\n",
              "</style>\n",
              "<table border=\"1\" class=\"dataframe\">\n",
              "  <thead>\n",
              "    <tr style=\"text-align: right;\">\n",
              "      <th></th>\n",
              "      <th>Start Station</th>\n",
              "      <th>End Station</th>\n",
              "    </tr>\n",
              "  </thead>\n",
              "  <tbody>\n",
              "    <tr>\n",
              "      <th>101972</th>\n",
              "      <td>19th St &amp; Constitution Ave NW</td>\n",
              "      <td>23rd &amp; E St NW</td>\n",
              "    </tr>\n",
              "  </tbody>\n",
              "</table>\n",
              "</div>\n",
              "      <button class=\"colab-df-convert\" onclick=\"convertToInteractive('df-b509da58-3652-4cb4-a9be-671ce4385942')\"\n",
              "              title=\"Convert this dataframe to an interactive table.\"\n",
              "              style=\"display:none;\">\n",
              "        \n",
              "  <svg xmlns=\"http://www.w3.org/2000/svg\" height=\"24px\"viewBox=\"0 0 24 24\"\n",
              "       width=\"24px\">\n",
              "    <path d=\"M0 0h24v24H0V0z\" fill=\"none\"/>\n",
              "    <path d=\"M18.56 5.44l.94 2.06.94-2.06 2.06-.94-2.06-.94-.94-2.06-.94 2.06-2.06.94zm-11 1L8.5 8.5l.94-2.06 2.06-.94-2.06-.94L8.5 2.5l-.94 2.06-2.06.94zm10 10l.94 2.06.94-2.06 2.06-.94-2.06-.94-.94-2.06-.94 2.06-2.06.94z\"/><path d=\"M17.41 7.96l-1.37-1.37c-.4-.4-.92-.59-1.43-.59-.52 0-1.04.2-1.43.59L10.3 9.45l-7.72 7.72c-.78.78-.78 2.05 0 2.83L4 21.41c.39.39.9.59 1.41.59.51 0 1.02-.2 1.41-.59l7.78-7.78 2.81-2.81c.8-.78.8-2.07 0-2.86zM5.41 20L4 18.59l7.72-7.72 1.47 1.35L5.41 20z\"/>\n",
              "  </svg>\n",
              "      </button>\n",
              "      \n",
              "  <style>\n",
              "    .colab-df-container {\n",
              "      display:flex;\n",
              "      flex-wrap:wrap;\n",
              "      gap: 12px;\n",
              "    }\n",
              "\n",
              "    .colab-df-convert {\n",
              "      background-color: #E8F0FE;\n",
              "      border: none;\n",
              "      border-radius: 50%;\n",
              "      cursor: pointer;\n",
              "      display: none;\n",
              "      fill: #1967D2;\n",
              "      height: 32px;\n",
              "      padding: 0 0 0 0;\n",
              "      width: 32px;\n",
              "    }\n",
              "\n",
              "    .colab-df-convert:hover {\n",
              "      background-color: #E2EBFA;\n",
              "      box-shadow: 0px 1px 2px rgba(60, 64, 67, 0.3), 0px 1px 3px 1px rgba(60, 64, 67, 0.15);\n",
              "      fill: #174EA6;\n",
              "    }\n",
              "\n",
              "    [theme=dark] .colab-df-convert {\n",
              "      background-color: #3B4455;\n",
              "      fill: #D2E3FC;\n",
              "    }\n",
              "\n",
              "    [theme=dark] .colab-df-convert:hover {\n",
              "      background-color: #434B5C;\n",
              "      box-shadow: 0px 1px 3px 1px rgba(0, 0, 0, 0.15);\n",
              "      filter: drop-shadow(0px 1px 2px rgba(0, 0, 0, 0.3));\n",
              "      fill: #FFFFFF;\n",
              "    }\n",
              "  </style>\n",
              "\n",
              "      <script>\n",
              "        const buttonEl =\n",
              "          document.querySelector('#df-b509da58-3652-4cb4-a9be-671ce4385942 button.colab-df-convert');\n",
              "        buttonEl.style.display =\n",
              "          google.colab.kernel.accessAllowed ? 'block' : 'none';\n",
              "\n",
              "        async function convertToInteractive(key) {\n",
              "          const element = document.querySelector('#df-b509da58-3652-4cb4-a9be-671ce4385942');\n",
              "          const dataTable =\n",
              "            await google.colab.kernel.invokeFunction('convertToInteractive',\n",
              "                                                     [key], {});\n",
              "          if (!dataTable) return;\n",
              "\n",
              "          const docLinkHtml = 'Like what you see? Visit the ' +\n",
              "            '<a target=\"_blank\" href=https://colab.research.google.com/notebooks/data_table.ipynb>data table notebook</a>'\n",
              "            + ' to learn more about interactive tables.';\n",
              "          element.innerHTML = '';\n",
              "          dataTable['output_type'] = 'display_data';\n",
              "          await google.colab.output.renderOutput(dataTable, element);\n",
              "          const docLink = document.createElement('div');\n",
              "          docLink.innerHTML = docLinkHtml;\n",
              "          element.appendChild(docLink);\n",
              "        }\n",
              "      </script>\n",
              "    </div>\n",
              "  </div>\n",
              "  "
            ]
          },
          "metadata": {},
          "execution_count": 334
        }
      ],
      "source": [
        "# Code for Task 8\n",
        "x=trips[trips['Trip Duration'] == trips['Trip Duration'].max()]\n",
        "x.loc[:,['Start Station','End Station']]"
      ]
    },
    {
      "cell_type": "markdown",
      "metadata": {
        "id": "VHvPu_Tptin8"
      },
      "source": [
        "We want to analyze the user base of the vehicle sharing service, especially their age. For that let's create an `Age` column based on `Birth Year`. Since the trips all took place in May 2017, we should calculate the users' ages then (i.e., 2017) instead of now.\n",
        "\n",
        "## **Task 9: Create a column `Age` using `Birth Year`. (5 points)**\n",
        "\n",
        "\n"
      ]
    },
    {
      "cell_type": "code",
      "execution_count": 335,
      "metadata": {
        "id": "lylGsyz_T-2x"
      },
      "outputs": [],
      "source": [
        "# Code for Task 9\n",
        "age= 2017-trips['Birth Year']\n",
        "trips['Age']= age"
      ]
    },
    {
      "cell_type": "markdown",
      "metadata": {
        "id": "YYHtFifogEuj"
      },
      "source": [
        "If your code is correct, the `Age` column should look like this."
      ]
    },
    {
      "cell_type": "code",
      "execution_count": 336,
      "metadata": {
        "colab": {
          "base_uri": "https://localhost:8080/"
        },
        "id": "an8ZHZHdPWQu",
        "outputId": "7c07a6b1-044e-48f3-8640-af8dec0af8a5"
      },
      "outputs": [
        {
          "output_type": "execute_result",
          "data": {
            "text/plain": [
              "0         25\n",
              "1         34\n",
              "2         32\n",
              "3         32\n",
              "4         50\n",
              "          ..\n",
              "191958    45\n",
              "191959    35\n",
              "191960    45\n",
              "191961    26\n",
              "191962    45\n",
              "Name: Age, Length: 191963, dtype: int64"
            ]
          },
          "metadata": {},
          "execution_count": 336
        }
      ],
      "source": [
        "trips['Age']"
      ]
    },
    {
      "cell_type": "markdown",
      "metadata": {
        "id": "2PtdcFZaduxG"
      },
      "source": [
        "In Task 3 we replaced null values in `Birth Year` with -1. Some of the `Age` values thus incorrectly become 2018. We need to replace them with -1 again."
      ]
    },
    {
      "cell_type": "code",
      "execution_count": 337,
      "metadata": {
        "id": "wvzqc6Oi8UZc"
      },
      "outputs": [],
      "source": [
        "trips['Age'] = trips['Age'].replace(2018, -1)"
      ]
    },
    {
      "cell_type": "markdown",
      "metadata": {
        "id": "T_UV69IMuaTn"
      },
      "source": [
        "Run the following code cell so that, even if your code in preceding tasks messed up the data, it will not affect the ensuing tasks."
      ]
    },
    {
      "cell_type": "code",
      "execution_count": 338,
      "metadata": {
        "colab": {
          "base_uri": "https://localhost:8080/"
        },
        "id": "H5f9Ow-muaTo",
        "outputId": "61b03054-d9de-499e-c3c7-25cc6c25c322"
      },
      "outputs": [
        {
          "output_type": "stream",
          "name": "stdout",
          "text": [
            "Downloading...\n",
            "From: https://drive.google.com/uc?id=1yIdnm2ICBnRMsUwkHe58xCARvLAxX3F5\n",
            "To: /content/task9.pkl\n",
            "100% 11.5M/11.5M [00:00<00:00, 47.6MB/s]\n"
          ]
        }
      ],
      "source": [
        "!gdown \"https://drive.google.com/uc?id=1yIdnm2ICBnRMsUwkHe58xCARvLAxX3F5\"\n",
        "trips = pd.read_pickle(\"task9.pkl\")"
      ]
    },
    {
      "cell_type": "markdown",
      "metadata": {
        "id": "xvRA6Z82eZCb"
      },
      "source": [
        "Now let's create a categorical feature `Age Group` based on `Age`. We can discretize `Age` into `Child` (for 00-14 years old), `Youth` (for 14-24 years old), `Adult` (for 24-64 years old), and `Senior` (64 years and over). We should set the value of `Age Group` to a string `N/A` if the `Age` value is -1. In every category range, the starting point is inclusive and the endpoint is exclusive. For instance, the `Child` group is for those with `Age` >= 0 and `Age` < 14."
      ]
    },
    {
      "cell_type": "markdown",
      "metadata": {
        "id": "P-st8xKuURXI"
      },
      "source": [
        "## **Task 10: Create a column `Age Group` and assign string values in this column based on `Age` according to the above description. (10 Points)**"
      ]
    },
    {
      "cell_type": "code",
      "source": [
        "trips['Age Group']= \"\"\n",
        "trips['Age Group']=pd.cut(trips['Age'],bins=[-1,0,14,24,64,132],labels=['N/A','Child','Youth','Adult','Senior'],right=False)"
      ],
      "metadata": {
        "id": "RNvL79dQd0eQ"
      },
      "execution_count": 339,
      "outputs": []
    },
    {
      "cell_type": "markdown",
      "metadata": {
        "id": "8QbKuZAxaTPZ"
      },
      "source": [
        "If your code is correct your `Age Group` counts should be as follows."
      ]
    },
    {
      "cell_type": "code",
      "execution_count": 340,
      "metadata": {
        "colab": {
          "base_uri": "https://localhost:8080/"
        },
        "id": "1RRAdkEvaPi_",
        "outputId": "99ad63bd-2735-41d5-e554-d30f5110e380"
      },
      "outputs": [
        {
          "output_type": "execute_result",
          "data": {
            "text/plain": [
              "Adult     103364\n",
              "N/A        81462\n",
              "Youth       4635\n",
              "Senior      2501\n",
              "Child          1\n",
              "Name: Age Group, dtype: int64"
            ]
          },
          "metadata": {},
          "execution_count": 340
        }
      ],
      "source": [
        "trips['Age Group'].value_counts()"
      ]
    },
    {
      "cell_type": "markdown",
      "metadata": {
        "id": "RN01l6B-vhX6"
      },
      "source": [
        "Run the following code cell so that, even if your code in preceding tasks messed up the data, it will not affect the ensuing tasks."
      ]
    },
    {
      "cell_type": "code",
      "execution_count": 316,
      "metadata": {
        "colab": {
          "base_uri": "https://localhost:8080/"
        },
        "id": "N8OhUgAmvhX6",
        "outputId": "853eee13-c87f-48fa-e2b8-c8e276e146b6"
      },
      "outputs": [
        {
          "output_type": "stream",
          "name": "stdout",
          "text": [
            "Downloading...\n",
            "From: https://drive.google.com/uc?id=1ad2XLlZrgj4hZ8MPnGQMyzWp6JqEL8m7\n",
            "To: /content/task10.pkl\n",
            "\r  0% 0.00/12.5M [00:00<?, ?B/s]\r100% 12.5M/12.5M [00:00<00:00, 129MB/s]\n"
          ]
        }
      ],
      "source": [
        "!gdown \"https://drive.google.com/uc?id=1ad2XLlZrgj4hZ8MPnGQMyzWp6JqEL8m7\"\n",
        "trips = pd.read_pickle(\"task10.pkl\")"
      ]
    },
    {
      "cell_type": "markdown",
      "metadata": {
        "id": "_7uK2MuDgZ9r"
      },
      "source": [
        "Our next task attempts to examine the relationship between `Age Group` and average trip time."
      ]
    },
    {
      "cell_type": "markdown",
      "metadata": {
        "id": "g2O8f0jxgFpj"
      },
      "source": [
        "## **Task 11: For each value of `Age Group` (except for `N/A`), find the average `Trip Duration`. (10 points)**"
      ]
    },
    {
      "cell_type": "markdown",
      "metadata": {
        "id": "LNfCR0UOguEq"
      },
      "source": [
        "If your code is correct you should get Average Trip duration 765.17, 639.0, 784.28, 740.38 for `Adult`, `Child`, `Senior`, and `Youth`, respectively.\n",
        "\n"
      ]
    },
    {
      "cell_type": "code",
      "execution_count": 341,
      "metadata": {
        "id": "WwF5yzxzOj2E",
        "colab": {
          "base_uri": "https://localhost:8080/",
          "height": 206
        },
        "outputId": "d3cde8a0-6e54-46c6-e302-ae7e9bd4dfd2"
      },
      "outputs": [
        {
          "output_type": "display_data",
          "data": {
            "text/plain": [
              "           Trip Duration\n",
              "Age Group               \n",
              "Child         639.000000\n",
              "Youth         740.381014\n",
              "Adult         765.169711\n",
              "Senior        784.281887"
            ],
            "text/html": [
              "\n",
              "  <div id=\"df-9d4c1e1f-056d-4d07-8ca3-cd97a342d0d3\">\n",
              "    <div class=\"colab-df-container\">\n",
              "      <div>\n",
              "<style scoped>\n",
              "    .dataframe tbody tr th:only-of-type {\n",
              "        vertical-align: middle;\n",
              "    }\n",
              "\n",
              "    .dataframe tbody tr th {\n",
              "        vertical-align: top;\n",
              "    }\n",
              "\n",
              "    .dataframe thead th {\n",
              "        text-align: right;\n",
              "    }\n",
              "</style>\n",
              "<table border=\"1\" class=\"dataframe\">\n",
              "  <thead>\n",
              "    <tr style=\"text-align: right;\">\n",
              "      <th></th>\n",
              "      <th>Trip Duration</th>\n",
              "    </tr>\n",
              "    <tr>\n",
              "      <th>Age Group</th>\n",
              "      <th></th>\n",
              "    </tr>\n",
              "  </thead>\n",
              "  <tbody>\n",
              "    <tr>\n",
              "      <th>Child</th>\n",
              "      <td>639.000000</td>\n",
              "    </tr>\n",
              "    <tr>\n",
              "      <th>Youth</th>\n",
              "      <td>740.381014</td>\n",
              "    </tr>\n",
              "    <tr>\n",
              "      <th>Adult</th>\n",
              "      <td>765.169711</td>\n",
              "    </tr>\n",
              "    <tr>\n",
              "      <th>Senior</th>\n",
              "      <td>784.281887</td>\n",
              "    </tr>\n",
              "  </tbody>\n",
              "</table>\n",
              "</div>\n",
              "      <button class=\"colab-df-convert\" onclick=\"convertToInteractive('df-9d4c1e1f-056d-4d07-8ca3-cd97a342d0d3')\"\n",
              "              title=\"Convert this dataframe to an interactive table.\"\n",
              "              style=\"display:none;\">\n",
              "        \n",
              "  <svg xmlns=\"http://www.w3.org/2000/svg\" height=\"24px\"viewBox=\"0 0 24 24\"\n",
              "       width=\"24px\">\n",
              "    <path d=\"M0 0h24v24H0V0z\" fill=\"none\"/>\n",
              "    <path d=\"M18.56 5.44l.94 2.06.94-2.06 2.06-.94-2.06-.94-.94-2.06-.94 2.06-2.06.94zm-11 1L8.5 8.5l.94-2.06 2.06-.94-2.06-.94L8.5 2.5l-.94 2.06-2.06.94zm10 10l.94 2.06.94-2.06 2.06-.94-2.06-.94-.94-2.06-.94 2.06-2.06.94z\"/><path d=\"M17.41 7.96l-1.37-1.37c-.4-.4-.92-.59-1.43-.59-.52 0-1.04.2-1.43.59L10.3 9.45l-7.72 7.72c-.78.78-.78 2.05 0 2.83L4 21.41c.39.39.9.59 1.41.59.51 0 1.02-.2 1.41-.59l7.78-7.78 2.81-2.81c.8-.78.8-2.07 0-2.86zM5.41 20L4 18.59l7.72-7.72 1.47 1.35L5.41 20z\"/>\n",
              "  </svg>\n",
              "      </button>\n",
              "      \n",
              "  <style>\n",
              "    .colab-df-container {\n",
              "      display:flex;\n",
              "      flex-wrap:wrap;\n",
              "      gap: 12px;\n",
              "    }\n",
              "\n",
              "    .colab-df-convert {\n",
              "      background-color: #E8F0FE;\n",
              "      border: none;\n",
              "      border-radius: 50%;\n",
              "      cursor: pointer;\n",
              "      display: none;\n",
              "      fill: #1967D2;\n",
              "      height: 32px;\n",
              "      padding: 0 0 0 0;\n",
              "      width: 32px;\n",
              "    }\n",
              "\n",
              "    .colab-df-convert:hover {\n",
              "      background-color: #E2EBFA;\n",
              "      box-shadow: 0px 1px 2px rgba(60, 64, 67, 0.3), 0px 1px 3px 1px rgba(60, 64, 67, 0.15);\n",
              "      fill: #174EA6;\n",
              "    }\n",
              "\n",
              "    [theme=dark] .colab-df-convert {\n",
              "      background-color: #3B4455;\n",
              "      fill: #D2E3FC;\n",
              "    }\n",
              "\n",
              "    [theme=dark] .colab-df-convert:hover {\n",
              "      background-color: #434B5C;\n",
              "      box-shadow: 0px 1px 3px 1px rgba(0, 0, 0, 0.15);\n",
              "      filter: drop-shadow(0px 1px 2px rgba(0, 0, 0, 0.3));\n",
              "      fill: #FFFFFF;\n",
              "    }\n",
              "  </style>\n",
              "\n",
              "      <script>\n",
              "        const buttonEl =\n",
              "          document.querySelector('#df-9d4c1e1f-056d-4d07-8ca3-cd97a342d0d3 button.colab-df-convert');\n",
              "        buttonEl.style.display =\n",
              "          google.colab.kernel.accessAllowed ? 'block' : 'none';\n",
              "\n",
              "        async function convertToInteractive(key) {\n",
              "          const element = document.querySelector('#df-9d4c1e1f-056d-4d07-8ca3-cd97a342d0d3');\n",
              "          const dataTable =\n",
              "            await google.colab.kernel.invokeFunction('convertToInteractive',\n",
              "                                                     [key], {});\n",
              "          if (!dataTable) return;\n",
              "\n",
              "          const docLinkHtml = 'Like what you see? Visit the ' +\n",
              "            '<a target=\"_blank\" href=https://colab.research.google.com/notebooks/data_table.ipynb>data table notebook</a>'\n",
              "            + ' to learn more about interactive tables.';\n",
              "          element.innerHTML = '';\n",
              "          dataTable['output_type'] = 'display_data';\n",
              "          await google.colab.output.renderOutput(dataTable, element);\n",
              "          const docLink = document.createElement('div');\n",
              "          docLink.innerHTML = docLinkHtml;\n",
              "          element.appendChild(docLink);\n",
              "        }\n",
              "      </script>\n",
              "    </div>\n",
              "  </div>\n",
              "  "
            ]
          },
          "metadata": {}
        }
      ],
      "source": [
        "# Code for Task 11\n",
        "trips['Age Group']=pd.cut(trips['Age'],bins=[0,14,24, 64,132] ,labels=['Child','Youth','Adult','Senior'] ,right=False,ordered= True)\n",
        "r=trips.groupby('Age Group')['Trip Duration'].mean()\n",
        "display(r.to_frame())"
      ]
    },
    {
      "cell_type": "markdown",
      "metadata": {
        "id": "vYBrZ_i8kbIz"
      },
      "source": [
        "## **Task 12: Produce a pivot table of number of trips, using `Gender` for rows and `User type` for columns. Exclude the trips from users whose gender is `Unknown`. (11 points)**\n"
      ]
    },
    {
      "cell_type": "markdown",
      "source": [
        ""
      ],
      "metadata": {
        "id": "2CiQvW7dMqQl"
      }
    },
    {
      "cell_type": "code",
      "execution_count": 342,
      "metadata": {
        "colab": {
          "base_uri": "https://localhost:8080/",
          "height": 143
        },
        "id": "04GlWOrCYdqr",
        "outputId": "56204546-9e31-4695-eca7-b3a05f12252e"
      },
      "outputs": [
        {
          "output_type": "display_data",
          "data": {
            "text/plain": [
              "User Type  Customer  Subscriber\n",
              "Gender                         \n",
              "Female          475       27477\n",
              "Male            895       81440"
            ],
            "text/html": [
              "\n",
              "  <div id=\"df-834fc832-96a8-4139-a09e-823ba4b4f249\">\n",
              "    <div class=\"colab-df-container\">\n",
              "      <div>\n",
              "<style scoped>\n",
              "    .dataframe tbody tr th:only-of-type {\n",
              "        vertical-align: middle;\n",
              "    }\n",
              "\n",
              "    .dataframe tbody tr th {\n",
              "        vertical-align: top;\n",
              "    }\n",
              "\n",
              "    .dataframe thead th {\n",
              "        text-align: right;\n",
              "    }\n",
              "</style>\n",
              "<table border=\"1\" class=\"dataframe\">\n",
              "  <thead>\n",
              "    <tr style=\"text-align: right;\">\n",
              "      <th>User Type</th>\n",
              "      <th>Customer</th>\n",
              "      <th>Subscriber</th>\n",
              "    </tr>\n",
              "    <tr>\n",
              "      <th>Gender</th>\n",
              "      <th></th>\n",
              "      <th></th>\n",
              "    </tr>\n",
              "  </thead>\n",
              "  <tbody>\n",
              "    <tr>\n",
              "      <th>Female</th>\n",
              "      <td>475</td>\n",
              "      <td>27477</td>\n",
              "    </tr>\n",
              "    <tr>\n",
              "      <th>Male</th>\n",
              "      <td>895</td>\n",
              "      <td>81440</td>\n",
              "    </tr>\n",
              "  </tbody>\n",
              "</table>\n",
              "</div>\n",
              "      <button class=\"colab-df-convert\" onclick=\"convertToInteractive('df-834fc832-96a8-4139-a09e-823ba4b4f249')\"\n",
              "              title=\"Convert this dataframe to an interactive table.\"\n",
              "              style=\"display:none;\">\n",
              "        \n",
              "  <svg xmlns=\"http://www.w3.org/2000/svg\" height=\"24px\"viewBox=\"0 0 24 24\"\n",
              "       width=\"24px\">\n",
              "    <path d=\"M0 0h24v24H0V0z\" fill=\"none\"/>\n",
              "    <path d=\"M18.56 5.44l.94 2.06.94-2.06 2.06-.94-2.06-.94-.94-2.06-.94 2.06-2.06.94zm-11 1L8.5 8.5l.94-2.06 2.06-.94-2.06-.94L8.5 2.5l-.94 2.06-2.06.94zm10 10l.94 2.06.94-2.06 2.06-.94-2.06-.94-.94-2.06-.94 2.06-2.06.94z\"/><path d=\"M17.41 7.96l-1.37-1.37c-.4-.4-.92-.59-1.43-.59-.52 0-1.04.2-1.43.59L10.3 9.45l-7.72 7.72c-.78.78-.78 2.05 0 2.83L4 21.41c.39.39.9.59 1.41.59.51 0 1.02-.2 1.41-.59l7.78-7.78 2.81-2.81c.8-.78.8-2.07 0-2.86zM5.41 20L4 18.59l7.72-7.72 1.47 1.35L5.41 20z\"/>\n",
              "  </svg>\n",
              "      </button>\n",
              "      \n",
              "  <style>\n",
              "    .colab-df-container {\n",
              "      display:flex;\n",
              "      flex-wrap:wrap;\n",
              "      gap: 12px;\n",
              "    }\n",
              "\n",
              "    .colab-df-convert {\n",
              "      background-color: #E8F0FE;\n",
              "      border: none;\n",
              "      border-radius: 50%;\n",
              "      cursor: pointer;\n",
              "      display: none;\n",
              "      fill: #1967D2;\n",
              "      height: 32px;\n",
              "      padding: 0 0 0 0;\n",
              "      width: 32px;\n",
              "    }\n",
              "\n",
              "    .colab-df-convert:hover {\n",
              "      background-color: #E2EBFA;\n",
              "      box-shadow: 0px 1px 2px rgba(60, 64, 67, 0.3), 0px 1px 3px 1px rgba(60, 64, 67, 0.15);\n",
              "      fill: #174EA6;\n",
              "    }\n",
              "\n",
              "    [theme=dark] .colab-df-convert {\n",
              "      background-color: #3B4455;\n",
              "      fill: #D2E3FC;\n",
              "    }\n",
              "\n",
              "    [theme=dark] .colab-df-convert:hover {\n",
              "      background-color: #434B5C;\n",
              "      box-shadow: 0px 1px 3px 1px rgba(0, 0, 0, 0.15);\n",
              "      filter: drop-shadow(0px 1px 2px rgba(0, 0, 0, 0.3));\n",
              "      fill: #FFFFFF;\n",
              "    }\n",
              "  </style>\n",
              "\n",
              "      <script>\n",
              "        const buttonEl =\n",
              "          document.querySelector('#df-834fc832-96a8-4139-a09e-823ba4b4f249 button.colab-df-convert');\n",
              "        buttonEl.style.display =\n",
              "          google.colab.kernel.accessAllowed ? 'block' : 'none';\n",
              "\n",
              "        async function convertToInteractive(key) {\n",
              "          const element = document.querySelector('#df-834fc832-96a8-4139-a09e-823ba4b4f249');\n",
              "          const dataTable =\n",
              "            await google.colab.kernel.invokeFunction('convertToInteractive',\n",
              "                                                     [key], {});\n",
              "          if (!dataTable) return;\n",
              "\n",
              "          const docLinkHtml = 'Like what you see? Visit the ' +\n",
              "            '<a target=\"_blank\" href=https://colab.research.google.com/notebooks/data_table.ipynb>data table notebook</a>'\n",
              "            + ' to learn more about interactive tables.';\n",
              "          element.innerHTML = '';\n",
              "          dataTable['output_type'] = 'display_data';\n",
              "          await google.colab.output.renderOutput(dataTable, element);\n",
              "          const docLink = document.createElement('div');\n",
              "          docLink.innerHTML = docLinkHtml;\n",
              "          element.appendChild(docLink);\n",
              "        }\n",
              "      </script>\n",
              "    </div>\n",
              "  </div>\n",
              "  "
            ]
          },
          "metadata": {}
        }
      ],
      "source": [
        "# Code for Task 12\n",
        "table = pd.pivot_table(trips, index=['Gender'],columns=['User Type'], aggfunc='count')\n",
        "display(table['Age'].iloc[0:2])"
      ]
    },
    {
      "cell_type": "markdown",
      "metadata": {
        "id": "nUqeCv7lkk8g"
      },
      "source": [
        "## **Task 13: Get the average `Trip Duration` for each day of a week. The results should be sorted by average trip duration. (12 points)**\n",
        "\n",
        "To decide the day of a trip, we only consider the trip's start time. For instance, if a trip starts on Monday, it is a Monday trip, regardless of when it ends. \n",
        "\n",
        "If your code is correct you will get that on weekends people usually take long trips."
      ]
    },
    {
      "cell_type": "markdown",
      "source": [
        "i have imported datetime here because we have been told to do so on teams\n",
        "\n"
      ],
      "metadata": {
        "id": "4cbBC4Ald7kn"
      }
    },
    {
      "cell_type": "code",
      "execution_count": 343,
      "metadata": {
        "colab": {
          "base_uri": "https://localhost:8080/",
          "height": 300
        },
        "id": "4TSCAsV4goW3",
        "outputId": "3cb72d04-7ed9-4475-b3c9-10a26c64e813"
      },
      "outputs": [
        {
          "output_type": "display_data",
          "data": {
            "text/plain": [
              "            Trip Duration\n",
              "Start Time               \n",
              "6             1382.117428\n",
              "5             1344.448537\n",
              "0             1092.311058\n",
              "4              964.368331\n",
              "2              940.540680\n",
              "1              918.600529\n",
              "3              898.084620"
            ],
            "text/html": [
              "\n",
              "  <div id=\"df-749bea91-7c21-44e1-8b0b-41b3076070ea\">\n",
              "    <div class=\"colab-df-container\">\n",
              "      <div>\n",
              "<style scoped>\n",
              "    .dataframe tbody tr th:only-of-type {\n",
              "        vertical-align: middle;\n",
              "    }\n",
              "\n",
              "    .dataframe tbody tr th {\n",
              "        vertical-align: top;\n",
              "    }\n",
              "\n",
              "    .dataframe thead th {\n",
              "        text-align: right;\n",
              "    }\n",
              "</style>\n",
              "<table border=\"1\" class=\"dataframe\">\n",
              "  <thead>\n",
              "    <tr style=\"text-align: right;\">\n",
              "      <th></th>\n",
              "      <th>Trip Duration</th>\n",
              "    </tr>\n",
              "    <tr>\n",
              "      <th>Start Time</th>\n",
              "      <th></th>\n",
              "    </tr>\n",
              "  </thead>\n",
              "  <tbody>\n",
              "    <tr>\n",
              "      <th>6</th>\n",
              "      <td>1382.117428</td>\n",
              "    </tr>\n",
              "    <tr>\n",
              "      <th>5</th>\n",
              "      <td>1344.448537</td>\n",
              "    </tr>\n",
              "    <tr>\n",
              "      <th>0</th>\n",
              "      <td>1092.311058</td>\n",
              "    </tr>\n",
              "    <tr>\n",
              "      <th>4</th>\n",
              "      <td>964.368331</td>\n",
              "    </tr>\n",
              "    <tr>\n",
              "      <th>2</th>\n",
              "      <td>940.540680</td>\n",
              "    </tr>\n",
              "    <tr>\n",
              "      <th>1</th>\n",
              "      <td>918.600529</td>\n",
              "    </tr>\n",
              "    <tr>\n",
              "      <th>3</th>\n",
              "      <td>898.084620</td>\n",
              "    </tr>\n",
              "  </tbody>\n",
              "</table>\n",
              "</div>\n",
              "      <button class=\"colab-df-convert\" onclick=\"convertToInteractive('df-749bea91-7c21-44e1-8b0b-41b3076070ea')\"\n",
              "              title=\"Convert this dataframe to an interactive table.\"\n",
              "              style=\"display:none;\">\n",
              "        \n",
              "  <svg xmlns=\"http://www.w3.org/2000/svg\" height=\"24px\"viewBox=\"0 0 24 24\"\n",
              "       width=\"24px\">\n",
              "    <path d=\"M0 0h24v24H0V0z\" fill=\"none\"/>\n",
              "    <path d=\"M18.56 5.44l.94 2.06.94-2.06 2.06-.94-2.06-.94-.94-2.06-.94 2.06-2.06.94zm-11 1L8.5 8.5l.94-2.06 2.06-.94-2.06-.94L8.5 2.5l-.94 2.06-2.06.94zm10 10l.94 2.06.94-2.06 2.06-.94-2.06-.94-.94-2.06-.94 2.06-2.06.94z\"/><path d=\"M17.41 7.96l-1.37-1.37c-.4-.4-.92-.59-1.43-.59-.52 0-1.04.2-1.43.59L10.3 9.45l-7.72 7.72c-.78.78-.78 2.05 0 2.83L4 21.41c.39.39.9.59 1.41.59.51 0 1.02-.2 1.41-.59l7.78-7.78 2.81-2.81c.8-.78.8-2.07 0-2.86zM5.41 20L4 18.59l7.72-7.72 1.47 1.35L5.41 20z\"/>\n",
              "  </svg>\n",
              "      </button>\n",
              "      \n",
              "  <style>\n",
              "    .colab-df-container {\n",
              "      display:flex;\n",
              "      flex-wrap:wrap;\n",
              "      gap: 12px;\n",
              "    }\n",
              "\n",
              "    .colab-df-convert {\n",
              "      background-color: #E8F0FE;\n",
              "      border: none;\n",
              "      border-radius: 50%;\n",
              "      cursor: pointer;\n",
              "      display: none;\n",
              "      fill: #1967D2;\n",
              "      height: 32px;\n",
              "      padding: 0 0 0 0;\n",
              "      width: 32px;\n",
              "    }\n",
              "\n",
              "    .colab-df-convert:hover {\n",
              "      background-color: #E2EBFA;\n",
              "      box-shadow: 0px 1px 2px rgba(60, 64, 67, 0.3), 0px 1px 3px 1px rgba(60, 64, 67, 0.15);\n",
              "      fill: #174EA6;\n",
              "    }\n",
              "\n",
              "    [theme=dark] .colab-df-convert {\n",
              "      background-color: #3B4455;\n",
              "      fill: #D2E3FC;\n",
              "    }\n",
              "\n",
              "    [theme=dark] .colab-df-convert:hover {\n",
              "      background-color: #434B5C;\n",
              "      box-shadow: 0px 1px 3px 1px rgba(0, 0, 0, 0.15);\n",
              "      filter: drop-shadow(0px 1px 2px rgba(0, 0, 0, 0.3));\n",
              "      fill: #FFFFFF;\n",
              "    }\n",
              "  </style>\n",
              "\n",
              "      <script>\n",
              "        const buttonEl =\n",
              "          document.querySelector('#df-749bea91-7c21-44e1-8b0b-41b3076070ea button.colab-df-convert');\n",
              "        buttonEl.style.display =\n",
              "          google.colab.kernel.accessAllowed ? 'block' : 'none';\n",
              "\n",
              "        async function convertToInteractive(key) {\n",
              "          const element = document.querySelector('#df-749bea91-7c21-44e1-8b0b-41b3076070ea');\n",
              "          const dataTable =\n",
              "            await google.colab.kernel.invokeFunction('convertToInteractive',\n",
              "                                                     [key], {});\n",
              "          if (!dataTable) return;\n",
              "\n",
              "          const docLinkHtml = 'Like what you see? Visit the ' +\n",
              "            '<a target=\"_blank\" href=https://colab.research.google.com/notebooks/data_table.ipynb>data table notebook</a>'\n",
              "            + ' to learn more about interactive tables.';\n",
              "          element.innerHTML = '';\n",
              "          dataTable['output_type'] = 'display_data';\n",
              "          await google.colab.output.renderOutput(dataTable, element);\n",
              "          const docLink = document.createElement('div');\n",
              "          docLink.innerHTML = docLinkHtml;\n",
              "          element.appendChild(docLink);\n",
              "        }\n",
              "      </script>\n",
              "    </div>\n",
              "  </div>\n",
              "  "
            ]
          },
          "metadata": {}
        }
      ],
      "source": [
        "# Code for Task 13\n",
        "import datetime as dt\n",
        "x=trips.groupby(trips['Start Time'].dt.dayofweek)['Trip Duration'].mean().sort_values(ascending=False)\n",
        "display(x.to_frame())"
      ]
    },
    {
      "cell_type": "markdown",
      "metadata": {
        "id": "-0qacO9ux7L7"
      },
      "source": [
        "## **Task 14: Get the three most popular trip routes, in terms of `Start Station` and `End Station`. (12 Points)**\n"
      ]
    },
    {
      "cell_type": "markdown",
      "source": [
        ""
      ],
      "metadata": {
        "id": "OT3g29uu739r"
      }
    },
    {
      "cell_type": "code",
      "execution_count": 344,
      "metadata": {
        "colab": {
          "base_uri": "https://localhost:8080/"
        },
        "id": "iLibr4dPwyqp",
        "outputId": "d82a9bbf-ee3e-4f38-a587-429df9626b07"
      },
      "outputs": [
        {
          "output_type": "stream",
          "name": "stdout",
          "text": [
            "['From Lake Shore Dr & Monroe St To Streeter Dr & Grand Ave ',\n",
            " 'From Streeter Dr & Grand Ave To Streeter Dr & Grand Ave ' ,\n",
            " 'From Lake Shore Dr & Monroe St To Lake Shore Dr & Monroe St ' ]\n"
          ]
        }
      ],
      "source": [
        "# Code for Task 14\n",
        "a2=trips['End Station'].value_counts(normalize=False, sort=True, ascending=False)\n",
        "w=ui[:3].to_frame().reset_index()\n",
        "w1=a2[:3].to_frame().reset_index()\n",
        "print(\"['From\",w.iloc[1,0],\"To\",w1.iloc[0,0],\"'\"\",\"\"\\n 'From\",w.iloc[0,0],\"To\",w1.iloc[0,0],\"'\" ,\",\"\"\\n 'From\",w.iloc[1,0],\"To\",w1.iloc[2,0], \"'\" ,\"]\")"
      ]
    }
  ],
  "metadata": {
    "colab": {
      "collapsed_sections": [],
      "name": "GORREPATI SAI SURYA DASC 5301 PROJECT2",
      "provenance": []
    },
    "kernelspec": {
      "display_name": "Python 3",
      "name": "python3"
    },
    "language_info": {
      "name": "python"
    }
  },
  "nbformat": 4,
  "nbformat_minor": 0
}